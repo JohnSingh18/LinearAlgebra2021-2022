{
  "nbformat": 4,
  "nbformat_minor": 0,
  "metadata": {
    "colab": {
      "name": "Assignment2.ipynb",
      "provenance": [],
      "collapsed_sections": [],
      "authorship_tag": "ABX9TyOgwEckKscbKh6zbfaK6UsM",
      "include_colab_link": true
    },
    "kernelspec": {
      "name": "python3",
      "display_name": "Python 3"
    },
    "language_info": {
      "name": "python"
    }
  },
  "cells": [
    {
      "cell_type": "markdown",
      "metadata": {
        "id": "view-in-github",
        "colab_type": "text"
      },
      "source": [
        "<a href=\"https://colab.research.google.com/github/JohnSingh18/LinearAlgebra2021-2022/blob/main/Assignment2.ipynb\" target=\"_parent\"><img src=\"https://colab.research.google.com/assets/colab-badge.svg\" alt=\"Open In Colab\"/></a>"
      ]
    },
    {
      "cell_type": "markdown",
      "metadata": {
        "id": "47LKEbE407CH"
      },
      "source": [
        "# Welcome to Python Fundamentals\n",
        "\n",
        "---\n",
        "\n",
        "\n",
        "In this module, we are going to  establish our skills in Python porgramming. In this notebook we are going to cover:\n",
        "*   Variables and Data types\n",
        "*   operations\n",
        "*   Input and output operations\n",
        "*   Logic controls\n",
        "*   Iterables\n",
        "*   Functions\n",
        "\n",
        "\n",
        "\n",
        "\n",
        "\n",
        "\n",
        "\n",
        "\n",
        "\n",
        "\n",
        "\n",
        "\n",
        "\n",
        "\n"
      ]
    },
    {
      "cell_type": "markdown",
      "metadata": {
        "id": "CYA6egtE1Kj7"
      },
      "source": [
        "#Variables and Data Types [1]\n",
        "### it represents the kind of value that tells what operations can be performed on a particular data. Since everything is an object in Python programming, data types are actually classes and variables are instance (object) of these classes. Following are the standard or built-in data type of Python: Numeric. Sequence Type.\n",
        "\n"
      ]
    },
    {
      "cell_type": "code",
      "metadata": {
        "id": "y3fPoNg_2ear"
      },
      "source": [
        "x = 1 \n",
        "a, b = 3, -2\n"
      ],
      "execution_count": null,
      "outputs": []
    },
    {
      "cell_type": "code",
      "metadata": {
        "id": "Sw2PK7n528AY"
      },
      "source": [
        "type(x)"
      ],
      "execution_count": null,
      "outputs": []
    },
    {
      "cell_type": "code",
      "metadata": {
        "id": "B0abUnHQ3AzP"
      },
      "source": [
        "y= 3.0\n",
        "type(y)\n"
      ],
      "execution_count": null,
      "outputs": []
    },
    {
      "cell_type": "code",
      "metadata": {
        "colab": {
          "base_uri": "https://localhost:8080/"
        },
        "id": "br4WlV_W3XPZ",
        "outputId": "5ecc42aa-67d6-47d3-956d-9fc964cb1c37"
      },
      "source": [
        "x= float(x)\n",
        "type(x)\n",
        "x"
      ],
      "execution_count": null,
      "outputs": [
        {
          "output_type": "execute_result",
          "data": {
            "text/plain": [
              "1.0"
            ]
          },
          "metadata": {},
          "execution_count": 13
        }
      ]
    },
    {
      "cell_type": "code",
      "metadata": {
        "colab": {
          "base_uri": "https://localhost:8080/"
        },
        "id": "BtUMTj6V3qP_",
        "outputId": "a09c4599-b19e-4cac-e84d-6459c151896c"
      },
      "source": [
        "s,t,u=\"1\", \"3\", 'three'\n",
        "type(u)"
      ],
      "execution_count": null,
      "outputs": [
        {
          "output_type": "execute_result",
          "data": {
            "text/plain": [
              "str"
            ]
          },
          "metadata": {},
          "execution_count": 20
        }
      ]
    },
    {
      "cell_type": "markdown",
      "metadata": {
        "id": "RcHQLjEE4Ng3"
      },
      "source": [
        "#Operation"
      ]
    },
    {
      "cell_type": "markdown",
      "metadata": {
        "id": "rvvyKj--4RO4"
      },
      "source": [
        "#Arithmetic[1]\n",
        "### The arithmetic operators in Python are used to perform math operations, such as addition, subtraction, multiplication, and division. Python also offers a number of libraries that enable you to perform more complex math tasks."
      ]
    },
    {
      "cell_type": "code",
      "metadata": {
        "id": "0bImT7BC4GuQ"
      },
      "source": [
        "w, x, y, z = 4.0, -3.0, 1, -32\n"
      ],
      "execution_count": null,
      "outputs": []
    },
    {
      "cell_type": "code",
      "metadata": {
        "colab": {
          "base_uri": "https://localhost:8080/"
        },
        "id": "5DN6EZ1W5Jnv",
        "outputId": "7dbfa949-2181-4a81-cce3-a4a05436d64c"
      },
      "source": [
        "### Addition\n",
        "S = w + x\n",
        "S"
      ],
      "execution_count": null,
      "outputs": [
        {
          "output_type": "execute_result",
          "data": {
            "text/plain": [
              "1.0"
            ]
          },
          "metadata": {},
          "execution_count": 31
        }
      ]
    },
    {
      "cell_type": "code",
      "metadata": {
        "colab": {
          "base_uri": "https://localhost:8080/"
        },
        "id": "TyDNRcje53ez",
        "outputId": "18c78d5b-70c2-481d-9d36-3757c2214a0b"
      },
      "source": [
        "### Subtraction\n",
        "D = y - z\n",
        "D"
      ],
      "execution_count": null,
      "outputs": [
        {
          "output_type": "execute_result",
          "data": {
            "text/plain": [
              "33"
            ]
          },
          "metadata": {},
          "execution_count": 42
        }
      ]
    },
    {
      "cell_type": "code",
      "metadata": {
        "colab": {
          "base_uri": "https://localhost:8080/"
        },
        "id": "AAjg2MES6kFA",
        "outputId": "403b56e9-225e-4165-d891-0cefa06b9920"
      },
      "source": [
        "### Multiplication\n",
        "P= w*z\n",
        "P"
      ],
      "execution_count": null,
      "outputs": [
        {
          "output_type": "execute_result",
          "data": {
            "text/plain": [
              "-128.0"
            ]
          },
          "metadata": {},
          "execution_count": 38
        }
      ]
    },
    {
      "cell_type": "code",
      "metadata": {
        "colab": {
          "base_uri": "https://localhost:8080/"
        },
        "id": "yYr4GWoL6vCo",
        "outputId": "a16fb172-62e4-437f-bac7-b1a6b80fed16"
      },
      "source": [
        "### Division\n",
        "Q = y/x\n",
        "Q"
      ],
      "execution_count": null,
      "outputs": [
        {
          "output_type": "execute_result",
          "data": {
            "text/plain": [
              "-0.3333333333333333"
            ]
          },
          "metadata": {},
          "execution_count": 43
        }
      ]
    },
    {
      "cell_type": "code",
      "metadata": {
        "colab": {
          "base_uri": "https://localhost:8080/"
        },
        "id": "yBH7Aueo7GGp",
        "outputId": "f078ab3b-70db-4730-e9a6-defe72143559"
      },
      "source": [
        "QF = w//z\n",
        "QF"
      ],
      "execution_count": null,
      "outputs": [
        {
          "output_type": "execute_result",
          "data": {
            "text/plain": [
              "-1.0"
            ]
          },
          "metadata": {},
          "execution_count": 45
        }
      ]
    },
    {
      "cell_type": "code",
      "metadata": {
        "colab": {
          "base_uri": "https://localhost:8080/"
        },
        "id": "qW4QNVXj7M9P",
        "outputId": "f8e15066-08c8-468e-d48c-8a32290ef3b2"
      },
      "source": [
        "### Exponintiation\n",
        "E = w**w\n",
        "E"
      ],
      "execution_count": null,
      "outputs": [
        {
          "output_type": "execute_result",
          "data": {
            "text/plain": [
              "256.0"
            ]
          },
          "metadata": {},
          "execution_count": 47
        }
      ]
    },
    {
      "cell_type": "code",
      "metadata": {
        "colab": {
          "base_uri": "https://localhost:8080/"
        },
        "id": "RUVdViZA7V9X",
        "outputId": "67a292c3-d479-4162-880e-5dc63bf97859"
      },
      "source": [
        "### Modulo\n",
        "mod = z%x\n",
        "mod"
      ],
      "execution_count": null,
      "outputs": [
        {
          "output_type": "execute_result",
          "data": {
            "text/plain": [
              "-2.0"
            ]
          },
          "metadata": {},
          "execution_count": 49
        }
      ]
    },
    {
      "cell_type": "markdown",
      "metadata": {
        "id": "YrxGEpjN7eIN"
      },
      "source": [
        "#Assignment[1]\n",
        "### The assignment operators in Python are used to store data into a variable. = – assigns the value found in the right operands to the left operand."
      ]
    },
    {
      "cell_type": "code",
      "metadata": {
        "id": "w-wUr4Lf7hMv"
      },
      "source": [
        "A, B, C, D= 0, 100, 2, 1"
      ],
      "execution_count": null,
      "outputs": []
    },
    {
      "cell_type": "code",
      "metadata": {
        "colab": {
          "base_uri": "https://localhost:8080/"
        },
        "id": "JadblGZu7uWv",
        "outputId": "52963cd7-1f61-46b5-fda1-38fe07e84f64"
      },
      "source": [
        "A += w\n",
        "A "
      ],
      "execution_count": null,
      "outputs": [
        {
          "output_type": "execute_result",
          "data": {
            "text/plain": [
              "8.0"
            ]
          },
          "metadata": {},
          "execution_count": 53
        }
      ]
    },
    {
      "cell_type": "code",
      "metadata": {
        "colab": {
          "base_uri": "https://localhost:8080/"
        },
        "id": "K8m6BYsM7z1G",
        "outputId": "c72aeb8f-26d1-46a4-f354-c2867fabe1cf"
      },
      "source": [
        "B -= x\n",
        "B"
      ],
      "execution_count": null,
      "outputs": [
        {
          "output_type": "execute_result",
          "data": {
            "text/plain": [
              "109.0"
            ]
          },
          "metadata": {},
          "execution_count": 56
        }
      ]
    },
    {
      "cell_type": "code",
      "metadata": {
        "id": "rLiuzlaP76Ju"
      },
      "source": [
        "C *= w\n",
        "C"
      ],
      "execution_count": null,
      "outputs": []
    },
    {
      "cell_type": "code",
      "metadata": {
        "id": "vjuk15sQ86A4"
      },
      "source": [
        "D /= x\n",
        "D"
      ],
      "execution_count": null,
      "outputs": []
    },
    {
      "cell_type": "code",
      "metadata": {
        "id": "3o2Rbn-99Ll_"
      },
      "source": [
        "E **= y\n",
        "E"
      ],
      "execution_count": null,
      "outputs": []
    },
    {
      "cell_type": "markdown",
      "metadata": {
        "id": "etWZWPHo9w5O"
      },
      "source": [
        "#Comparators[2]\n",
        "### Comparators are used to take two values and compare them together. It compares and produces the boolean values. It is commonly used with numerical values, but it can be used with other data types as well."
      ]
    },
    {
      "cell_type": "code",
      "metadata": {
        "id": "55UuK-2K9zKm"
      },
      "source": [
        "#size_1, size_2, size_3, = 1, 2.0, \"1\"\n",
        "true_size = 1.0"
      ],
      "execution_count": null,
      "outputs": []
    },
    {
      "cell_type": "code",
      "metadata": {
        "id": "XQ57hE8p98pf"
      },
      "source": [
        "##Equality\n",
        "size_1 == true_size\n",
        "\n"
      ],
      "execution_count": null,
      "outputs": []
    },
    {
      "cell_type": "code",
      "metadata": {
        "id": "byNwXL4c-Uf3"
      },
      "source": [
        "## Non Equality\n",
        "size_2 != true_size"
      ],
      "execution_count": null,
      "outputs": []
    },
    {
      "cell_type": "code",
      "metadata": {
        "id": "ofmu2QQV-bNh"
      },
      "source": [
        "## Inequality\n",
        "s1 = size_1 > size_2\n",
        "s2 = size_1 < size_2/2\n",
        "s3 = true_size >= size_1\n",
        "s4 = size_2 <= true_size\n"
      ],
      "execution_count": null,
      "outputs": []
    },
    {
      "cell_type": "markdown",
      "metadata": {
        "id": "RXl1UOun_Pr6"
      },
      "source": [
        "##Logical Operations[1]\n",
        "### The logical operators in Python are used to combine the true or false values of variables (or expressions) so you can figure out their resultant truth value. Three logical operators are available in Python: \"and\", \"or\" and \"not\"\n",
        "\n"
      ]
    },
    {
      "cell_type": "code",
      "metadata": {
        "id": "-GNmfaKe_VA3"
      },
      "source": [
        "size_1 == true_size\n",
        "size_1 "
      ],
      "execution_count": null,
      "outputs": []
    },
    {
      "cell_type": "code",
      "metadata": {
        "colab": {
          "base_uri": "https://localhost:8080/"
        },
        "id": "XTfLRN2n_iTv",
        "outputId": "03e836e9-6e2e-492a-82fb-f117dfe224d3"
      },
      "source": [
        "size_1 is true_size"
      ],
      "execution_count": null,
      "outputs": [
        {
          "output_type": "execute_result",
          "data": {
            "text/plain": [
              "False"
            ]
          },
          "metadata": {},
          "execution_count": 90
        }
      ]
    },
    {
      "cell_type": "code",
      "metadata": {
        "colab": {
          "base_uri": "https://localhost:8080/"
        },
        "id": "g5HBk7rW_4C_",
        "outputId": "364b39e6-60d9-429f-a409-3bb6ad90e2ad"
      },
      "source": [
        "size_1 is not true_size"
      ],
      "execution_count": null,
      "outputs": [
        {
          "output_type": "execute_result",
          "data": {
            "text/plain": [
              "True"
            ]
          },
          "metadata": {},
          "execution_count": 92
        }
      ]
    },
    {
      "cell_type": "code",
      "metadata": {
        "colab": {
          "base_uri": "https://localhost:8080/"
        },
        "id": "XyblFqWv_6fX",
        "outputId": "b468aee8-acbb-4748-ded1-3ddfe49a0152"
      },
      "source": [
        "P, Q = True, False  \n",
        "conj = P and Q \n",
        "conj\n"
      ],
      "execution_count": null,
      "outputs": [
        {
          "output_type": "execute_result",
          "data": {
            "text/plain": [
              "False"
            ]
          },
          "metadata": {},
          "execution_count": 100
        }
      ]
    },
    {
      "cell_type": "code",
      "metadata": {
        "colab": {
          "base_uri": "https://localhost:8080/"
        },
        "id": "K_xiaDwFAP0_",
        "outputId": "098a8490-87ae-4170-9f62-54f31e6ed851"
      },
      "source": [
        "disj = P or Q\n",
        "disj"
      ],
      "execution_count": null,
      "outputs": [
        {
          "output_type": "execute_result",
          "data": {
            "text/plain": [
              "True"
            ]
          },
          "metadata": {},
          "execution_count": 102
        }
      ]
    },
    {
      "cell_type": "code",
      "metadata": {
        "colab": {
          "base_uri": "https://localhost:8080/"
        },
        "id": "vq1CXxQeAeMH",
        "outputId": "c2c9b15e-7bec-4714-ac11-5c506b02fa5c"
      },
      "source": [
        "nand = not(P and Q)\n",
        "nand"
      ],
      "execution_count": null,
      "outputs": [
        {
          "output_type": "execute_result",
          "data": {
            "text/plain": [
              "True"
            ]
          },
          "metadata": {},
          "execution_count": 104
        }
      ]
    },
    {
      "cell_type": "code",
      "metadata": {
        "id": "UzHCeh2eAxQX"
      },
      "source": [
        "xor = (not P and Q) or (P and not Q)\n",
        "xor"
      ],
      "execution_count": null,
      "outputs": []
    },
    {
      "cell_type": "markdown",
      "metadata": {
        "id": "VTFwtc6IBPhu"
      },
      "source": [
        "## Input and Output[3]\n",
        "### Input : Any information or data sent to the computer from the user through the keyboard is called input. Output: The information produced by the computer to the user is called output. Python provides us with the two inbuilt functions as input() and output()."
      ]
    },
    {
      "cell_type": "code",
      "metadata": {
        "colab": {
          "base_uri": "https://localhost:8080/"
        },
        "id": "Go5xLQ3eBSM-",
        "outputId": "380cc7de-b3b9-4102-8bda-008ceb2ff4f9"
      },
      "source": [
        "print(\"Hello World!\")"
      ],
      "execution_count": null,
      "outputs": [
        {
          "output_type": "stream",
          "name": "stdout",
          "text": [
            "Hello World!\n"
          ]
        }
      ]
    },
    {
      "cell_type": "code",
      "metadata": {
        "id": "bwzeEOOLBfYe"
      },
      "source": [
        "cnt = 14000"
      ],
      "execution_count": null,
      "outputs": []
    },
    {
      "cell_type": "code",
      "metadata": {
        "colab": {
          "base_uri": "https://localhost:8080/"
        },
        "id": "2HMp8fWeBhvO",
        "outputId": "34187575-c001-4bf2-cf4b-6f607c9fe6b0"
      },
      "source": [
        "string = \"Hello World\"\n",
        "print(string, \" Current Covid count is:\", cnt)\n",
        "cnt += 10000"
      ],
      "execution_count": null,
      "outputs": [
        {
          "output_type": "stream",
          "name": "stdout",
          "text": [
            "Hello World  Current Covid count is: 24002\n"
          ]
        }
      ]
    },
    {
      "cell_type": "code",
      "metadata": {
        "colab": {
          "base_uri": "https://localhost:8080/"
        },
        "id": "Rs4It2xuBmrn",
        "outputId": "5112bf9e-b9ed-481a-a00c-0736c81ece36"
      },
      "source": [
        "print(f\"{string}, current count is:{cnt}\")\n"
      ],
      "execution_count": null,
      "outputs": [
        {
          "output_type": "stream",
          "name": "stdout",
          "text": [
            "Hello World, current count is:34002\n"
          ]
        }
      ]
    },
    {
      "cell_type": "code",
      "metadata": {
        "colab": {
          "base_uri": "https://localhost:8080/"
        },
        "id": "hqgcObgoDZCZ",
        "outputId": "5594668e-7920-4f55-c1ae-83d987de9fdc"
      },
      "source": [
        "sem_grade = 86.25\n",
        "name = \"John\"\n",
        "print (\"Hello {}, your semestral grade is {}\".format(name, sem_grade))"
      ],
      "execution_count": null,
      "outputs": [
        {
          "output_type": "stream",
          "name": "stdout",
          "text": [
            "Hello John, your semestral grade is 86.25\n"
          ]
        }
      ]
    },
    {
      "cell_type": "code",
      "metadata": {
        "colab": {
          "base_uri": "https://localhost:8080/"
        },
        "id": "CsGbq0noC0gn",
        "outputId": "daef7ce6-10bd-4aae-ffb1-a4b8579414c3"
      },
      "source": [
        "pg, mg, fg = 0.3, 0.3, 0.4\n",
        "print(\"The  weights of your semestral grades are:\\\n",
        "\\n\\t {:.2%} for Prelims\\\n",
        "\\n\\t {:.2%} for Midterms, and\\\n",
        "\\n\\t {:.2%} for Finals.\".format(pg, mg, fg))\n"
      ],
      "execution_count": null,
      "outputs": [
        {
          "output_type": "stream",
          "name": "stdout",
          "text": [
            "The  weights of your semestral grades are:\n",
            "\t 30.00% for Prelims\n",
            "\t 30.00% for Midterms, and\n",
            "\t 40.00% for Finals.\n"
          ]
        }
      ]
    },
    {
      "cell_type": "code",
      "metadata": {
        "id": "NsfdlKE8E-Fv"
      },
      "source": [
        "e = input(\"Enter a number: \")"
      ],
      "execution_count": null,
      "outputs": []
    },
    {
      "cell_type": "code",
      "metadata": {
        "colab": {
          "base_uri": "https://localhost:8080/"
        },
        "id": "sjuqD5V0Fh6W",
        "outputId": "6d2c90c1-600e-4580-96f6-e395df7dd54c"
      },
      "source": [
        "name = input(\"Enter your name: \")\n",
        "pg = input(\"Enter Prelim grade: \")\n",
        "mg = input(\"Enter Midterm grade \")\n",
        "fg = input(\"Enter Final grade: \")\n",
        "sem_grade = None \n",
        "print(\"Hello {}, your semestral grade is: {}\".format(name, sem_grade))"
      ],
      "execution_count": null,
      "outputs": [
        {
          "output_type": "stream",
          "name": "stdout",
          "text": [
            "Enter your name: jm\n",
            "Enter Prelim grade: 80\n",
            "Enter Midterm grade 80\n",
            "Enter Final grade: 80\n",
            "Hello jm, your semestral grade is: None\n"
          ]
        }
      ]
    },
    {
      "cell_type": "markdown",
      "metadata": {
        "id": "W0Yv8-sSKnop"
      },
      "source": [
        "## Looping Statements[4]\n",
        "### A loop statement allows us to execute a statement or group of statements multiple times. The following diagram illustrates a loop statement − Python programming language provides following types of loops to handle looping requirements."
      ]
    },
    {
      "cell_type": "markdown",
      "metadata": {
        "id": "Ayvs8HU4K89C"
      },
      "source": [
        "## While[5]\n",
        "### Python While Loop is used to execute a block of statements repeatedly until a given condition is satisfied. And when the condition becomes false, the line immediately after the loop in the program is executed. While loop falls under the category of indefinite iteration."
      ]
    },
    {
      "cell_type": "code",
      "metadata": {
        "id": "0TDq07h5K-1m",
        "colab": {
          "base_uri": "https://localhost:8080/"
        },
        "outputId": "41d4d9da-786a-4611-b785-d42c1cda5bb0"
      },
      "source": [
        "##  while loops \n",
        "i, j = 0, 10\n",
        "while(i<=j):\n",
        "  print(f\"{i}\\t|\\t{j}\")\n",
        "  i += 1\n",
        "  "
      ],
      "execution_count": null,
      "outputs": [
        {
          "output_type": "stream",
          "name": "stdout",
          "text": [
            "0\t|\t10\n",
            "1\t|\t10\n",
            "2\t|\t10\n",
            "3\t|\t10\n",
            "4\t|\t10\n",
            "5\t|\t10\n",
            "6\t|\t10\n",
            "7\t|\t10\n",
            "8\t|\t10\n",
            "9\t|\t10\n",
            "10\t|\t10\n"
          ]
        }
      ]
    },
    {
      "cell_type": "markdown",
      "metadata": {
        "id": "L9EORghxJlmp"
      },
      "source": [
        "## For[6]\n",
        "### A for loop in Python is a control flow statement that is used to repeatedly execute a group of statements as long as the condition is satisfied. Thus, a for loop is an iterative statement."
      ]
    },
    {
      "cell_type": "code",
      "metadata": {
        "colab": {
          "base_uri": "https://localhost:8080/"
        },
        "id": "r-3HTvsKNglE",
        "outputId": "469d0dac-bbc3-490a-eea1-d02916719493"
      },
      "source": [
        "# for(int = 0); i<10; i++){\n",
        "# printf(i)\n",
        "# }\n",
        "\n",
        "i=0\n",
        "for i in range (11):\n",
        "  print(i)\n",
        "  "
      ],
      "execution_count": null,
      "outputs": [
        {
          "output_type": "stream",
          "name": "stdout",
          "text": [
            "0\n",
            "1\n",
            "2\n",
            "3\n",
            "4\n",
            "5\n",
            "6\n",
            "7\n",
            "8\n",
            "9\n",
            "10\n"
          ]
        }
      ]
    },
    {
      "cell_type": "code",
      "metadata": {
        "colab": {
          "base_uri": "https://localhost:8080/"
        },
        "id": "4Ye5e7AROFxU",
        "outputId": "12434e07-d9f1-44e6-92fa-cfad6b604ba2"
      },
      "source": [
        "playlist = [\"Bahay Kubo\", \"Magandang Kanta\" , \"Buko\"]\n",
        "print('Now Playing:\\n')\n",
        "for song in playlist:\n",
        "  print(song)\n",
        "  "
      ],
      "execution_count": null,
      "outputs": [
        {
          "output_type": "stream",
          "name": "stdout",
          "text": [
            "Now Playing:\n",
            "\n",
            "Bahay Kubo\n",
            "Magandang Kanta\n",
            "Buko\n"
          ]
        }
      ]
    },
    {
      "cell_type": "code",
      "metadata": {
        "colab": {
          "base_uri": "https://localhost:8080/"
        },
        "id": "p5dEShBddNj-",
        "outputId": "a6488c3c-82fb-4189-ef11-2d369de6ce24"
      },
      "source": [
        "num_1, num_2 =  14, 12 \n",
        "if(num_1 == num_2):\n",
        "  print(\"HAHA\")\n",
        "elif(num_1>num_2):\n",
        "  print(\"HOHO\")\n",
        "else:\n",
        "  print (\"HUHU\")"
      ],
      "execution_count": null,
      "outputs": [
        {
          "output_type": "stream",
          "name": "stdout",
          "text": [
            "HOHO\n"
          ]
        }
      ]
    },
    {
      "cell_type": "code",
      "metadata": {
        "id": "DU23XjKyeIB1"
      },
      "source": [
        "# void Deleteuser (int userid){\n",
        "# delete(userid);\n",
        "#}\n",
        "\n",
        "def delete_user (userid):\n",
        "  print(\"Successfully deleted user {}\". format(userid))"
      ],
      "execution_count": null,
      "outputs": []
    },
    {
      "cell_type": "code",
      "metadata": {
        "colab": {
          "base_uri": "https://localhost:8080/"
        },
        "id": "wm3mQFobkHwp",
        "outputId": "2a860ba9-a46a-4c51-8a27-414919d10bf8"
      },
      "source": [
        "userid = 2020_100100\n",
        "delete_user(2020_100100)"
      ],
      "execution_count": null,
      "outputs": [
        {
          "output_type": "stream",
          "name": "stdout",
          "text": [
            "Successfully deleted user 2020100100\n"
          ]
        }
      ]
    },
    {
      "cell_type": "code",
      "metadata": {
        "id": "pnYkej8YkUC_"
      },
      "source": [
        "added1, added2 = 5, 6"
      ],
      "execution_count": null,
      "outputs": []
    },
    {
      "cell_type": "code",
      "metadata": {
        "id": "IlJsSqbGlaYb"
      },
      "source": [
        "def add(added1, added2):\n",
        "  sum =added1 + added2\n",
        "  return sum "
      ],
      "execution_count": null,
      "outputs": []
    },
    {
      "cell_type": "code",
      "metadata": {
        "colab": {
          "base_uri": "https://localhost:8080/"
        },
        "id": "kUOX9c-pDcRk",
        "outputId": "7b807cf6-71a5-49d7-97a3-0eef6c69d23a"
      },
      "source": [
        "add(5, 4)\n"
      ],
      "execution_count": null,
      "outputs": [
        {
          "output_type": "execute_result",
          "data": {
            "text/plain": [
              "9"
            ]
          },
          "metadata": {},
          "execution_count": 20
        }
      ]
    },
    {
      "cell_type": "markdown",
      "metadata": {
        "id": "al2uuWNRDhh2"
      },
      "source": [
        "## References:\n",
        "[1] Python Course (2021).(https://geek-university.com/python)\n",
        "\n",
        "[2] The Secret of Comparators | Comparison Operators in Python (2021).(https://www.pythonpool.com/python-comparators/)\n",
        "\n",
        "[3] Python Input and Output Statements(2021).(https://chercher.tech/python-programming/python-inputs-and-outputs)\n",
        "\n",
        "[4] Python - Loops(2021).(https://www.tutorialspoint.com/python/python_loops.htm)\n",
        "\n",
        "[5] Python While Loop(2021).(https://www.geeksforgeeks.org/python-while-loop/)\n",
        "\n",
        "[6] For Loops in Python: Definition & Examples(2021).(https://study.com/academy/lesson/for-loops-in-python-definition-examples.html)\n",
        "\n"
      ]
    },
    {
      "cell_type": "markdown",
      "metadata": {
        "id": "DQo4y5LtG5bD"
      },
      "source": [
        "![image](https://upload.wikimedia.org/wikipedia/commons/thumb/0/0a/Python.svg/1024px-Python.svg.png)"
      ]
    },
    {
      "cell_type": "code",
      "metadata": {
        "id": "w-fPoMfoGQLw"
      },
      "source": [
        ""
      ],
      "execution_count": null,
      "outputs": []
    }
  ]
}